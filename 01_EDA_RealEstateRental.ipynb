{
 "cells": [
  {
   "cell_type": "code",
   "execution_count": 53,
   "id": "988ff84c",
   "metadata": {},
   "outputs": [],
   "source": [
    "# Import Libraries"
   ]
  },
  {
   "cell_type": "code",
   "execution_count": 54,
   "id": "2c09cfd3",
   "metadata": {},
   "outputs": [],
   "source": [
    "import pandas as pd\n",
    "import numpy as np\n",
    "from ydata_profiling import  ProfileReport\n",
    "from IPython.display import display, Markdown\n",
    "%matplotlib inline"
   ]
  },
  {
   "cell_type": "code",
   "execution_count": 55,
   "id": "3bd065ec",
   "metadata": {},
   "outputs": [],
   "source": [
    "# Load Data"
   ]
  },
  {
   "cell_type": "code",
   "execution_count": 56,
   "id": "a17718d0",
   "metadata": {},
   "outputs": [],
   "source": [
    "df = pd.read_excel('real_estate_rental_prices.xlsx')"
   ]
  },
  {
   "cell_type": "code",
   "execution_count": 57,
   "id": "e6ab4b9f",
   "metadata": {},
   "outputs": [],
   "source": [
    "# Analyze DataSet function"
   ]
  },
  {
   "cell_type": "code",
   "execution_count": 58,
   "id": "2addf768",
   "metadata": {},
   "outputs": [],
   "source": [
    "def analyzeDataSet(DataSet,state):\n",
    "    display(Markdown('### Display data'))\n",
    "    display(Markdown(DataSet.head().to_markdown()))\n",
    "    display(Markdown('### Data Info'))\n",
    "    display(Markdown(DataSet.info()))\n",
    "    display(Markdown('### Describe Data'))\n",
    "    display(Markdown(DataSet.describe().round(2).to_markdown()))\n",
    "    display(Markdown('### DataFrame for Information about Dataset'))\n",
    "    information_DataSet = pd.DataFrame({\"name\": DataSet.columns,\n",
    "                     \"non-nulls\": len(DataSet)-DataSet.isnull().sum().values,\n",
    "                     \"nulls\": DataSet.isnull().sum().values,\n",
    "                     \"type\": DataSet.dtypes.values})\n",
    "    display(Markdown(information_DataSet.to_markdown()))\n",
    "    # Construct rows\n",
    "    info_list=[]\n",
    "    for column in DataSet.columns:\n",
    "        row = [column,\n",
    "               min(df[column]),\n",
    "               max(df[column]),\n",
    "               df[column].nunique(),\n",
    "               df[column].isna().sum(),\n",
    "               df.duplicated().sum()\n",
    "              ]\n",
    "        info_list.append(row)\n",
    "    display(Markdown('### DataFrame for information about Dataset Values'))\n",
    "    # Convert List to DataFrame\n",
    "    info_df = pd.DataFrame(data = info_list,\n",
    "                            columns=['Column_name',\n",
    "                                     'Minimum_value',\n",
    "                                     'Maximum_value',\n",
    "                                     'Number_of_unique_records',\n",
    "                                     'Number_of_null_records',\n",
    "                                     'Number_of_duplicated_records'\n",
    "                                    ])\n",
    "    display(Markdown(info_df.to_markdown()))\n",
    "    display(Markdown('### show data types'))\n",
    "    print(info_df.dtypes)\n",
    "    display(Markdown('### Remove comment character if you want to proceed Running Ydata Report'))\n",
    "    pf = ProfileReport(df)\n",
    "    if state == 'pre':\n",
    "        pf.to_file('ReatEstateRental_BEFORE_pre_process.html')\n",
    "    elif state == 'post':\n",
    "        pf.to_file('ReatEstateRental_AFTER_pre_process.html')\n",
    "    else :\n",
    "        print('for state of analysis, use \"pre\" or \"post\"')"
   ]
  },
  {
   "cell_type": "code",
   "execution_count": 59,
   "id": "1d74a0a6",
   "metadata": {},
   "outputs": [],
   "source": [
    "# Analyze DataSet before pre processing"
   ]
  },
  {
   "cell_type": "code",
   "execution_count": 60,
   "id": "cd0c083b",
   "metadata": {
    "scrolled": false
   },
   "outputs": [
    {
     "data": {
      "text/markdown": [
       "### Display data"
      ],
      "text/plain": [
       "<IPython.core.display.Markdown object>"
      ]
     },
     "metadata": {},
     "output_type": "display_data"
    },
    {
     "data": {
      "text/markdown": [
       "|    |   Serial |   Evaluation |   Residence |   Area | RsDescription                    | Neighbourhood   |   OneNightPrice | City   | RsCategory   |\n",
       "|---:|---------:|-------------:|------------:|-------:|:---------------------------------|:----------------|----------------:|:-------|:-------------|\n",
       "|  0 |        0 |         10   |           7 |     40 | استديو بسرير ماستر وجلسة         | حي العزيزية     |             250 | العلا  | استديو       |\n",
       "|  1 |        1 |          9.2 |           6 |   3000 | استديو بسريرين فردية وبأثاث بسيط | العذيب          |             280 | العلا  | استديو       |\n",
       "|  2 |        2 |         10   |          43 |   1000 | شقة بغرفة معيشة وغرفتين نوم      | حي العزيزية     |             400 | العلا  | شقة          |\n",
       "|  3 |        3 |          9.4 |           4 |    400 | استراحة بصالة جلوس وغرفتين نوم   | حي المعتدل      |             799 | العلا  | استراحة      |\n",
       "|  4 |        4 |          9.6 |          29 |   3000 | شقة بغرفة جلوس وغرفة نوم         | جنوب المستشفى   |             550 | العلا  | شقة          |"
      ],
      "text/plain": [
       "<IPython.core.display.Markdown object>"
      ]
     },
     "metadata": {},
     "output_type": "display_data"
    },
    {
     "data": {
      "text/markdown": [
       "### Data Info"
      ],
      "text/plain": [
       "<IPython.core.display.Markdown object>"
      ]
     },
     "metadata": {},
     "output_type": "display_data"
    },
    {
     "name": "stdout",
     "output_type": "stream",
     "text": [
      "<class 'pandas.core.frame.DataFrame'>\n",
      "RangeIndex: 16913 entries, 0 to 16912\n",
      "Data columns (total 9 columns):\n",
      " #   Column         Non-Null Count  Dtype  \n",
      "---  ------         --------------  -----  \n",
      " 0   Serial         16913 non-null  int64  \n",
      " 1   Evaluation     16913 non-null  float64\n",
      " 2   Residence      16913 non-null  int64  \n",
      " 3   Area           16913 non-null  int64  \n",
      " 4   RsDescription  16913 non-null  object \n",
      " 5   Neighbourhood  16913 non-null  object \n",
      " 6   OneNightPrice  16913 non-null  object \n",
      " 7   City           16913 non-null  object \n",
      " 8   RsCategory     16913 non-null  object \n",
      "dtypes: float64(1), int64(3), object(5)\n",
      "memory usage: 1.2+ MB\n"
     ]
    },
    {
     "data": {
      "text/plain": [
       "<IPython.core.display.Markdown object>"
      ]
     },
     "metadata": {},
     "output_type": "display_data"
    },
    {
     "data": {
      "text/markdown": [
       "### Describe Data"
      ],
      "text/plain": [
       "<IPython.core.display.Markdown object>"
      ]
     },
     "metadata": {},
     "output_type": "display_data"
    },
    {
     "data": {
      "text/markdown": [
       "|       |   Serial |   Evaluation |   Residence |      Area |\n",
       "|:------|---------:|-------------:|------------:|----------:|\n",
       "| count | 16913    |     16913    |    16913    |  16913    |\n",
       "| mean  |   732.86 |         7.63 |       21.41 |    564.24 |\n",
       "| std   |   647.15 |         3.58 |       35.3  |   3880    |\n",
       "| min   |     0    |         0    |        0    |     10    |\n",
       "| 25%   |   197    |         7.8  |        1    |     35    |\n",
       "| 50%   |   540    |         9.3  |        8    |     60    |\n",
       "| 75%   |  1090    |         9.9  |       25    |    300    |\n",
       "| max   |  2387    |        10    |      443    | 110000    |"
      ],
      "text/plain": [
       "<IPython.core.display.Markdown object>"
      ]
     },
     "metadata": {},
     "output_type": "display_data"
    },
    {
     "data": {
      "text/markdown": [
       "### DataFrame for Information about Dataset"
      ],
      "text/plain": [
       "<IPython.core.display.Markdown object>"
      ]
     },
     "metadata": {},
     "output_type": "display_data"
    },
    {
     "data": {
      "text/markdown": [
       "|    | name          |   non-nulls |   nulls | type    |\n",
       "|---:|:--------------|------------:|--------:|:--------|\n",
       "|  0 | Serial        |       16913 |       0 | int64   |\n",
       "|  1 | Evaluation    |       16913 |       0 | float64 |\n",
       "|  2 | Residence     |       16913 |       0 | int64   |\n",
       "|  3 | Area          |       16913 |       0 | int64   |\n",
       "|  4 | RsDescription |       16913 |       0 | object  |\n",
       "|  5 | Neighbourhood |       16913 |       0 | object  |\n",
       "|  6 | OneNightPrice |       16913 |       0 | object  |\n",
       "|  7 | City          |       16913 |       0 | object  |\n",
       "|  8 | RsCategory    |       16913 |       0 | object  |"
      ],
      "text/plain": [
       "<IPython.core.display.Markdown object>"
      ]
     },
     "metadata": {},
     "output_type": "display_data"
    },
    {
     "data": {
      "text/markdown": [
       "### DataFrame for information about Dataset Values"
      ],
      "text/plain": [
       "<IPython.core.display.Markdown object>"
      ]
     },
     "metadata": {},
     "output_type": "display_data"
    },
    {
     "data": {
      "text/markdown": [
       "|    | Column_name   | Minimum_value                    | Maximum_value            |   Number_of_unique_records |   Number_of_null_records |   Number_of_duplicated_records |\n",
       "|---:|:--------------|:---------------------------------|:-------------------------|---------------------------:|-------------------------:|-------------------------------:|\n",
       "|  0 | Serial        | 0                                | 2387                     |                       2388 |                        0 |                              0 |\n",
       "|  1 | Evaluation    | 0.0                              | 10.0                     |                         84 |                        0 |                              0 |\n",
       "|  2 | Residence     | 0                                | 443                      |                        258 |                        0 |                              0 |\n",
       "|  3 | Area          | 10                               | 110000                   |                        275 |                        0 |                              0 |\n",
       "|  4 | RsDescription | ,شاليه بجلسة خارجية  ومسبح خارجي | وحده بيت شعر  هادئ ومريح |                       3820 |                        0 |                              0 |\n",
       "|  5 | Neighbourhood | حي المروة                        | وشي                      |                        969 |                        0 |                              0 |\n",
       "|  6 | OneNightPrice | 1,000                            | 999                      |                        815 |                        0 |                              0 |\n",
       "|  7 | City          | ابها                             | ينبع                     |                         24 |                        0 |                              0 |\n",
       "|  8 | RsCategory    | استديو                           | منتجع                    |                         14 |                        0 |                              0 |"
      ],
      "text/plain": [
       "<IPython.core.display.Markdown object>"
      ]
     },
     "metadata": {},
     "output_type": "display_data"
    },
    {
     "data": {
      "text/markdown": [
       "### show data types"
      ],
      "text/plain": [
       "<IPython.core.display.Markdown object>"
      ]
     },
     "metadata": {},
     "output_type": "display_data"
    },
    {
     "name": "stdout",
     "output_type": "stream",
     "text": [
      "Column_name                     object\n",
      "Minimum_value                   object\n",
      "Maximum_value                   object\n",
      "Number_of_unique_records         int64\n",
      "Number_of_null_records           int64\n",
      "Number_of_duplicated_records     int64\n",
      "dtype: object\n"
     ]
    },
    {
     "data": {
      "text/markdown": [
       "### Remove comment character if you want to proceed Running Ydata Report"
      ],
      "text/plain": [
       "<IPython.core.display.Markdown object>"
      ]
     },
     "metadata": {},
     "output_type": "display_data"
    },
    {
     "data": {
      "application/vnd.jupyter.widget-view+json": {
       "model_id": "5868c6d6c4ed4e979e0e627301a3c7b2",
       "version_major": 2,
       "version_minor": 0
      },
      "text/plain": [
       "Summarize dataset:   0%|          | 0/5 [00:00<?, ?it/s]"
      ]
     },
     "metadata": {},
     "output_type": "display_data"
    },
    {
     "data": {
      "application/vnd.jupyter.widget-view+json": {
       "model_id": "34efa339b1724f3189460cd8ee88f6b5",
       "version_major": 2,
       "version_minor": 0
      },
      "text/plain": [
       "Generate report structure:   0%|          | 0/1 [00:00<?, ?it/s]"
      ]
     },
     "metadata": {},
     "output_type": "display_data"
    },
    {
     "data": {
      "application/vnd.jupyter.widget-view+json": {
       "model_id": "8feaee38b4c4457d8b7b45de0174b401",
       "version_major": 2,
       "version_minor": 0
      },
      "text/plain": [
       "Render HTML:   0%|          | 0/1 [00:00<?, ?it/s]"
      ]
     },
     "metadata": {},
     "output_type": "display_data"
    },
    {
     "data": {
      "application/vnd.jupyter.widget-view+json": {
       "model_id": "9fc8ee3fe61c4a7fbef6732cf09f7be0",
       "version_major": 2,
       "version_minor": 0
      },
      "text/plain": [
       "Export report to file:   0%|          | 0/1 [00:00<?, ?it/s]"
      ]
     },
     "metadata": {},
     "output_type": "display_data"
    }
   ],
   "source": [
    "analyzeDataSet(df,'pre')"
   ]
  },
  {
   "cell_type": "code",
   "execution_count": null,
   "id": "8367ccb6",
   "metadata": {},
   "outputs": [],
   "source": []
  }
 ],
 "metadata": {
  "kernelspec": {
   "display_name": "Python 3 (ipykernel)",
   "language": "python",
   "name": "python3"
  },
  "language_info": {
   "codemirror_mode": {
    "name": "ipython",
    "version": 3
   },
   "file_extension": ".py",
   "mimetype": "text/x-python",
   "name": "python",
   "nbconvert_exporter": "python",
   "pygments_lexer": "ipython3",
   "version": "3.7.9"
  }
 },
 "nbformat": 4,
 "nbformat_minor": 5
}
