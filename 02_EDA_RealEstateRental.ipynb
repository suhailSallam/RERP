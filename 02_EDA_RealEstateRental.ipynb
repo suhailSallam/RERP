{
 "cells": [
  {
   "cell_type": "markdown",
   "id": "1c873921",
   "metadata": {},
   "source": [
    "# Import Libraries"
   ]
  },
  {
   "cell_type": "code",
   "execution_count": 19,
   "id": "5b2cb035",
   "metadata": {},
   "outputs": [],
   "source": [
    "import pandas as pd\n",
    "import numpy as np\n",
    "from ydata_profiling import  ProfileReport\n",
    "from IPython.display import display, Markdown\n",
    "from sklearn.preprocessing import LabelEncoder\n",
    "%matplotlib inline"
   ]
  },
  {
   "cell_type": "markdown",
   "id": "ffb959c9",
   "metadata": {},
   "source": [
    "# Load Data"
   ]
  },
  {
   "cell_type": "code",
   "execution_count": 20,
   "id": "475f5e06",
   "metadata": {},
   "outputs": [],
   "source": [
    "df = pd.read_excel('real_estate_rental_prices.xlsx')"
   ]
  },
  {
   "cell_type": "markdown",
   "id": "3704a964",
   "metadata": {},
   "source": [
    "# Analyze DataSet function"
   ]
  },
  {
   "cell_type": "code",
   "execution_count": 21,
   "id": "3692684e",
   "metadata": {},
   "outputs": [],
   "source": [
    "def analyzeDataSet(DataSet,state):\n",
    "    display(Markdown('### Display data'))\n",
    "    display(Markdown(DataSet.head().to_markdown()))\n",
    "    display(Markdown('### Data Info'))\n",
    "    display(Markdown(DataSet.info()))\n",
    "    display(Markdown('### Describe Data'))\n",
    "    display(Markdown(DataSet.describe().round(2).to_markdown()))\n",
    "    display(Markdown('### DataFrame for Information about Dataset'))\n",
    "    information_DataSet = pd.DataFrame({\"name\": DataSet.columns,\n",
    "                     \"non-nulls\": len(DataSet)-DataSet.isnull().sum().values,\n",
    "                     \"nulls\": DataSet.isnull().sum().values,\n",
    "                     \"type\": DataSet.dtypes.values})\n",
    "    display(Markdown(information_DataSet.to_markdown()))\n",
    "    # Construct rows\n",
    "    info_list=[]\n",
    "    for column in DataSet.columns:\n",
    "        row = [column,\n",
    "               min(df[column]),\n",
    "               max(df[column]),\n",
    "               df[column].nunique(),\n",
    "               df[column].isna().sum(),\n",
    "               df.duplicated().sum()\n",
    "              ]\n",
    "        info_list.append(row)\n",
    "    display(Markdown('### DataFrame for information about Dataset Values'))\n",
    "    # Convert List to DataFrame\n",
    "    info_df = pd.DataFrame(data = info_list,\n",
    "                            columns=['Column_name',\n",
    "                                     'Minimum_value',\n",
    "                                     'Maximum_value',\n",
    "                                     'Number_of_unique_records',\n",
    "                                     'Number_of_null_records',\n",
    "                                     'Number_of_duplicated_records'\n",
    "                                    ])\n",
    "    display(Markdown(info_df.to_markdown()))\n",
    "    display(Markdown('### show data types'))\n",
    "    print(info_df.dtypes)\n",
    "    display(Markdown('### Remove comment character if you want to proceed Running Ydata Report'))\n",
    "    pf = ProfileReport(df)\n",
    "    if state == 'pre':\n",
    "        pf.to_file('ReatEstateRental_BEFORE_pre_process.html')\n",
    "    elif state == 'post':\n",
    "        pf.to_file('ReatEstateRental_AFTER_pre_process.html')\n",
    "    else :\n",
    "        print('for state of analysis, use \"pre\" or \"post\"')"
   ]
  },
  {
   "cell_type": "markdown",
   "id": "f17ec80e",
   "metadata": {},
   "source": [
    "# Data pre processing"
   ]
  },
  {
   "cell_type": "markdown",
   "id": "51466403",
   "metadata": {},
   "source": [
    "## Date Processing"
   ]
  },
  {
   "cell_type": "markdown",
   "id": "2144b5cd",
   "metadata": {},
   "source": [
    "## Categorization"
   ]
  },
  {
   "cell_type": "markdown",
   "id": "3a9a511c",
   "metadata": {},
   "source": [
    "### Neighbourhood Categories"
   ]
  },
  {
   "cell_type": "code",
   "execution_count": 22,
   "id": "77760169",
   "metadata": {},
   "outputs": [],
   "source": [
    "le =LabelEncoder()"
   ]
  },
  {
   "cell_type": "code",
   "execution_count": 23,
   "id": "d9998135",
   "metadata": {},
   "outputs": [
    {
     "name": "stdout",
     "output_type": "stream",
     "text": [
      "   Serial  Evaluation  Residence  Area                     RsDescription  \\\n",
      "0       0        10.0          7    40          استديو بسرير ماستر وجلسة   \n",
      "1       1         9.2          6  3000  استديو بسريرين فردية وبأثاث بسيط   \n",
      "2       2        10.0         43  1000       شقة بغرفة معيشة وغرفتين نوم   \n",
      "3       3         9.4          4   400    استراحة بصالة جلوس وغرفتين نوم   \n",
      "4       4         9.6         29  3000          شقة بغرفة جلوس وغرفة نوم   \n",
      "\n",
      "   Neighbourhood OneNightPrice   City RsCategory  Neighbourhood_code  \n",
      "0    حي العزيزية           250  العلا     استديو                 589  \n",
      "1         العذيب           280  العلا     استديو                 291  \n",
      "2    حي العزيزية           400  العلا        شقة                 589  \n",
      "3     حي المعتدل           799  العلا    استراحة                 681  \n",
      "4  جنوب المستشفى           550  العلا        شقة                 342  \n"
     ]
    }
   ],
   "source": [
    "df['Neighbourhood_code'] = le.fit_transform(df['Neighbourhood'])\n",
    "print(df.head())"
   ]
  },
  {
   "cell_type": "markdown",
   "id": "02eccf95",
   "metadata": {},
   "source": [
    "### City Categories"
   ]
  },
  {
   "cell_type": "code",
   "execution_count": 24,
   "id": "5e06da37",
   "metadata": {},
   "outputs": [
    {
     "name": "stdout",
     "output_type": "stream",
     "text": [
      "   Serial  Evaluation  Residence  Area                     RsDescription  \\\n",
      "0       0        10.0          7    40          استديو بسرير ماستر وجلسة   \n",
      "1       1         9.2          6  3000  استديو بسريرين فردية وبأثاث بسيط   \n",
      "2       2        10.0         43  1000       شقة بغرفة معيشة وغرفتين نوم   \n",
      "3       3         9.4          4   400    استراحة بصالة جلوس وغرفتين نوم   \n",
      "4       4         9.6         29  3000          شقة بغرفة جلوس وغرفة نوم   \n",
      "\n",
      "   Neighbourhood OneNightPrice   City RsCategory  Neighbourhood_code  \\\n",
      "0    حي العزيزية           250  العلا     استديو                 589   \n",
      "1         العذيب           280  العلا     استديو                 291   \n",
      "2    حي العزيزية           400  العلا        شقة                 589   \n",
      "3     حي المعتدل           799  العلا    استراحة                 681   \n",
      "4  جنوب المستشفى           550  العلا        شقة                 342   \n",
      "\n",
      "   City_code  \n",
      "0         10  \n",
      "1         10  \n",
      "2         10  \n",
      "3         10  \n",
      "4         10  \n"
     ]
    }
   ],
   "source": [
    "df['City_code'] = le.fit_transform(df['City'])\n",
    "print(df.head())"
   ]
  },
  {
   "cell_type": "markdown",
   "id": "d5be5334",
   "metadata": {},
   "source": [
    "### Realestate Categories"
   ]
  },
  {
   "cell_type": "code",
   "execution_count": 25,
   "id": "94c53729",
   "metadata": {},
   "outputs": [
    {
     "name": "stdout",
     "output_type": "stream",
     "text": [
      "   Serial  Evaluation  Residence  Area                     RsDescription  \\\n",
      "0       0        10.0          7    40          استديو بسرير ماستر وجلسة   \n",
      "1       1         9.2          6  3000  استديو بسريرين فردية وبأثاث بسيط   \n",
      "2       2        10.0         43  1000       شقة بغرفة معيشة وغرفتين نوم   \n",
      "3       3         9.4          4   400    استراحة بصالة جلوس وغرفتين نوم   \n",
      "4       4         9.6         29  3000          شقة بغرفة جلوس وغرفة نوم   \n",
      "\n",
      "   Neighbourhood OneNightPrice   City RsCategory  Neighbourhood_code  \\\n",
      "0    حي العزيزية           250  العلا     استديو                 589   \n",
      "1         العذيب           280  العلا     استديو                 291   \n",
      "2    حي العزيزية           400  العلا        شقة                 589   \n",
      "3     حي المعتدل           799  العلا    استراحة                 681   \n",
      "4  جنوب المستشفى           550  العلا        شقة                 342   \n",
      "\n",
      "   City_code  RsCategory_code  \n",
      "0         10                0  \n",
      "1         10                0  \n",
      "2         10                4  \n",
      "3         10                1  \n",
      "4         10                4  \n"
     ]
    }
   ],
   "source": [
    "df['RsCategory_code'] = le.fit_transform(df['RsCategory'])\n",
    "print(df.head())"
   ]
  },
  {
   "cell_type": "markdown",
   "id": "a144f28f",
   "metadata": {},
   "source": [
    "# Analyze DataSet Post processing"
   ]
  },
  {
   "cell_type": "code",
   "execution_count": 26,
   "id": "628f2a28",
   "metadata": {
    "scrolled": false
   },
   "outputs": [
    {
     "data": {
      "text/markdown": [
       "### Display data"
      ],
      "text/plain": [
       "<IPython.core.display.Markdown object>"
      ]
     },
     "metadata": {},
     "output_type": "display_data"
    },
    {
     "data": {
      "text/markdown": [
       "|    |   Serial |   Evaluation |   Residence |   Area | RsDescription                    | Neighbourhood   |   OneNightPrice | City   | RsCategory   |   Neighbourhood_code |   City_code |   RsCategory_code |\n",
       "|---:|---------:|-------------:|------------:|-------:|:---------------------------------|:----------------|----------------:|:-------|:-------------|---------------------:|------------:|------------------:|\n",
       "|  0 |        0 |         10   |           7 |     40 | استديو بسرير ماستر وجلسة         | حي العزيزية     |             250 | العلا  | استديو       |                  589 |          10 |                 0 |\n",
       "|  1 |        1 |          9.2 |           6 |   3000 | استديو بسريرين فردية وبأثاث بسيط | العذيب          |             280 | العلا  | استديو       |                  291 |          10 |                 0 |\n",
       "|  2 |        2 |         10   |          43 |   1000 | شقة بغرفة معيشة وغرفتين نوم      | حي العزيزية     |             400 | العلا  | شقة          |                  589 |          10 |                 4 |\n",
       "|  3 |        3 |          9.4 |           4 |    400 | استراحة بصالة جلوس وغرفتين نوم   | حي المعتدل      |             799 | العلا  | استراحة      |                  681 |          10 |                 1 |\n",
       "|  4 |        4 |          9.6 |          29 |   3000 | شقة بغرفة جلوس وغرفة نوم         | جنوب المستشفى   |             550 | العلا  | شقة          |                  342 |          10 |                 4 |"
      ],
      "text/plain": [
       "<IPython.core.display.Markdown object>"
      ]
     },
     "metadata": {},
     "output_type": "display_data"
    },
    {
     "data": {
      "text/markdown": [
       "### Data Info"
      ],
      "text/plain": [
       "<IPython.core.display.Markdown object>"
      ]
     },
     "metadata": {},
     "output_type": "display_data"
    },
    {
     "name": "stdout",
     "output_type": "stream",
     "text": [
      "<class 'pandas.core.frame.DataFrame'>\n",
      "RangeIndex: 16913 entries, 0 to 16912\n",
      "Data columns (total 12 columns):\n",
      " #   Column              Non-Null Count  Dtype  \n",
      "---  ------              --------------  -----  \n",
      " 0   Serial              16913 non-null  int64  \n",
      " 1   Evaluation          16913 non-null  float64\n",
      " 2   Residence           16913 non-null  int64  \n",
      " 3   Area                16913 non-null  int64  \n",
      " 4   RsDescription       16913 non-null  object \n",
      " 5   Neighbourhood       16913 non-null  object \n",
      " 6   OneNightPrice       16913 non-null  object \n",
      " 7   City                16913 non-null  object \n",
      " 8   RsCategory          16913 non-null  object \n",
      " 9   Neighbourhood_code  16913 non-null  int32  \n",
      " 10  City_code           16913 non-null  int32  \n",
      " 11  RsCategory_code     16913 non-null  int32  \n",
      "dtypes: float64(1), int32(3), int64(3), object(5)\n",
      "memory usage: 1.4+ MB\n"
     ]
    },
    {
     "data": {
      "text/plain": [
       "<IPython.core.display.Markdown object>"
      ]
     },
     "metadata": {},
     "output_type": "display_data"
    },
    {
     "data": {
      "text/markdown": [
       "### Describe Data"
      ],
      "text/plain": [
       "<IPython.core.display.Markdown object>"
      ]
     },
     "metadata": {},
     "output_type": "display_data"
    },
    {
     "data": {
      "text/markdown": [
       "|       |   Serial |   Evaluation |   Residence |      Area |   Neighbourhood_code |   City_code |   RsCategory_code |\n",
       "|:------|---------:|-------------:|------------:|----------:|---------------------:|------------:|------------------:|\n",
       "| count | 16913    |     16913    |    16913    |  16913    |             16913    |    16913    |          16913    |\n",
       "| mean  |   732.86 |         7.63 |       21.41 |    564.24 |               510.09 |        9.45 |              3.14 |\n",
       "| std   |   647.15 |         3.58 |       35.3  |   3880    |               251.1  |        5.57 |              2.49 |\n",
       "| min   |     0    |         0    |        0    |     10    |                 0    |        0    |              0    |\n",
       "| 25%   |   197    |         7.8  |        1    |     35    |               320    |        7    |              1    |\n",
       "| 50%   |   540    |         9.3  |        8    |     60    |               523    |        7    |              3    |\n",
       "| 75%   |  1090    |         9.9  |       25    |    300    |               716    |       14    |              4    |\n",
       "| max   |  2387    |        10    |      443    | 110000    |               968    |       23    |             13    |"
      ],
      "text/plain": [
       "<IPython.core.display.Markdown object>"
      ]
     },
     "metadata": {},
     "output_type": "display_data"
    },
    {
     "data": {
      "text/markdown": [
       "### DataFrame for Information about Dataset"
      ],
      "text/plain": [
       "<IPython.core.display.Markdown object>"
      ]
     },
     "metadata": {},
     "output_type": "display_data"
    },
    {
     "data": {
      "text/markdown": [
       "|    | name               |   non-nulls |   nulls | type    |\n",
       "|---:|:-------------------|------------:|--------:|:--------|\n",
       "|  0 | Serial             |       16913 |       0 | int64   |\n",
       "|  1 | Evaluation         |       16913 |       0 | float64 |\n",
       "|  2 | Residence          |       16913 |       0 | int64   |\n",
       "|  3 | Area               |       16913 |       0 | int64   |\n",
       "|  4 | RsDescription      |       16913 |       0 | object  |\n",
       "|  5 | Neighbourhood      |       16913 |       0 | object  |\n",
       "|  6 | OneNightPrice      |       16913 |       0 | object  |\n",
       "|  7 | City               |       16913 |       0 | object  |\n",
       "|  8 | RsCategory         |       16913 |       0 | object  |\n",
       "|  9 | Neighbourhood_code |       16913 |       0 | int32   |\n",
       "| 10 | City_code          |       16913 |       0 | int32   |\n",
       "| 11 | RsCategory_code    |       16913 |       0 | int32   |"
      ],
      "text/plain": [
       "<IPython.core.display.Markdown object>"
      ]
     },
     "metadata": {},
     "output_type": "display_data"
    },
    {
     "data": {
      "text/markdown": [
       "### DataFrame for information about Dataset Values"
      ],
      "text/plain": [
       "<IPython.core.display.Markdown object>"
      ]
     },
     "metadata": {},
     "output_type": "display_data"
    },
    {
     "data": {
      "text/markdown": [
       "|    | Column_name        | Minimum_value                    | Maximum_value            |   Number_of_unique_records |   Number_of_null_records |   Number_of_duplicated_records |\n",
       "|---:|:-------------------|:---------------------------------|:-------------------------|---------------------------:|-------------------------:|-------------------------------:|\n",
       "|  0 | Serial             | 0                                | 2387                     |                       2388 |                        0 |                              0 |\n",
       "|  1 | Evaluation         | 0.0                              | 10.0                     |                         84 |                        0 |                              0 |\n",
       "|  2 | Residence          | 0                                | 443                      |                        258 |                        0 |                              0 |\n",
       "|  3 | Area               | 10                               | 110000                   |                        275 |                        0 |                              0 |\n",
       "|  4 | RsDescription      | ,شاليه بجلسة خارجية  ومسبح خارجي | وحده بيت شعر  هادئ ومريح |                       3820 |                        0 |                              0 |\n",
       "|  5 | Neighbourhood      | حي المروة                        | وشي                      |                        969 |                        0 |                              0 |\n",
       "|  6 | OneNightPrice      | 1,000                            | 999                      |                        815 |                        0 |                              0 |\n",
       "|  7 | City               | ابها                             | ينبع                     |                         24 |                        0 |                              0 |\n",
       "|  8 | RsCategory         | استديو                           | منتجع                    |                         14 |                        0 |                              0 |\n",
       "|  9 | Neighbourhood_code | 0                                | 968                      |                        969 |                        0 |                              0 |\n",
       "| 10 | City_code          | 0                                | 23                       |                         24 |                        0 |                              0 |\n",
       "| 11 | RsCategory_code    | 0                                | 13                       |                         14 |                        0 |                              0 |"
      ],
      "text/plain": [
       "<IPython.core.display.Markdown object>"
      ]
     },
     "metadata": {},
     "output_type": "display_data"
    },
    {
     "data": {
      "text/markdown": [
       "### show data types"
      ],
      "text/plain": [
       "<IPython.core.display.Markdown object>"
      ]
     },
     "metadata": {},
     "output_type": "display_data"
    },
    {
     "name": "stdout",
     "output_type": "stream",
     "text": [
      "Column_name                     object\n",
      "Minimum_value                   object\n",
      "Maximum_value                   object\n",
      "Number_of_unique_records         int64\n",
      "Number_of_null_records           int64\n",
      "Number_of_duplicated_records     int64\n",
      "dtype: object\n"
     ]
    },
    {
     "data": {
      "text/markdown": [
       "### Remove comment character if you want to proceed Running Ydata Report"
      ],
      "text/plain": [
       "<IPython.core.display.Markdown object>"
      ]
     },
     "metadata": {},
     "output_type": "display_data"
    },
    {
     "data": {
      "application/vnd.jupyter.widget-view+json": {
       "model_id": "5a745649e5714992815a49438c824664",
       "version_major": 2,
       "version_minor": 0
      },
      "text/plain": [
       "Summarize dataset:   0%|          | 0/5 [00:00<?, ?it/s]"
      ]
     },
     "metadata": {},
     "output_type": "display_data"
    },
    {
     "data": {
      "application/vnd.jupyter.widget-view+json": {
       "model_id": "7ef948ea84ef43a7a6342404f7ba2840",
       "version_major": 2,
       "version_minor": 0
      },
      "text/plain": [
       "Generate report structure:   0%|          | 0/1 [00:00<?, ?it/s]"
      ]
     },
     "metadata": {},
     "output_type": "display_data"
    },
    {
     "data": {
      "application/vnd.jupyter.widget-view+json": {
       "model_id": "7a13ff02bb8c40a19e8b83855710564d",
       "version_major": 2,
       "version_minor": 0
      },
      "text/plain": [
       "Render HTML:   0%|          | 0/1 [00:00<?, ?it/s]"
      ]
     },
     "metadata": {},
     "output_type": "display_data"
    },
    {
     "data": {
      "application/vnd.jupyter.widget-view+json": {
       "model_id": "69ca7d5abbe24af89e5079701a16a136",
       "version_major": 2,
       "version_minor": 0
      },
      "text/plain": [
       "Export report to file:   0%|          | 0/1 [00:00<?, ?it/s]"
      ]
     },
     "metadata": {},
     "output_type": "display_data"
    }
   ],
   "source": [
    "analyzeDataSet(df,'post')"
   ]
  },
  {
   "cell_type": "markdown",
   "id": "a17982e2",
   "metadata": {},
   "source": [
    "# Save DataSet post processing to new Excel file"
   ]
  },
  {
   "cell_type": "code",
   "execution_count": 27,
   "id": "2aaefb20",
   "metadata": {},
   "outputs": [
    {
     "name": "stdout",
     "output_type": "stream",
     "text": [
      "File Created\n"
     ]
    }
   ],
   "source": [
    "df.to_excel('real_estate_rental_prices_extended.xlsx')\n",
    "print('File Created')"
   ]
  },
  {
   "cell_type": "code",
   "execution_count": null,
   "id": "5f5f2a3f",
   "metadata": {},
   "outputs": [],
   "source": []
  }
 ],
 "metadata": {
  "kernelspec": {
   "display_name": "Python 3 (ipykernel)",
   "language": "python",
   "name": "python3"
  },
  "language_info": {
   "codemirror_mode": {
    "name": "ipython",
    "version": 3
   },
   "file_extension": ".py",
   "mimetype": "text/x-python",
   "name": "python",
   "nbconvert_exporter": "python",
   "pygments_lexer": "ipython3",
   "version": "3.7.9"
  }
 },
 "nbformat": 4,
 "nbformat_minor": 5
}
